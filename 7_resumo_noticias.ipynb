{
 "cells": [
  {
   "cell_type": "markdown",
   "metadata": {},
   "source": [
    "# Resumo de Notícia Utilizando Exemplos em Prompts\n",
    "\n",
    "Usando a API Gemini, crie um notebook que utilize prompts para resumir uma notícia (escolha da página principal de um portal de notícias e copie no notebook). O prompt deve solicitar um resumo dessa notícia usando o princípio de Exemplos para guiar a resposta do LLM. Teste o código e avalie a qualidade do resumo gerado. "
   ]
  },
  {
   "cell_type": "code",
   "execution_count": 1,
   "metadata": {},
   "outputs": [],
   "source": [
    "import os\n",
    "import google.generativeai as genai\n",
    "from dotenv import load_dotenv"
   ]
  },
  {
   "cell_type": "code",
   "execution_count": 2,
   "metadata": {},
   "outputs": [],
   "source": [
    "# Carregando variáveis de ambiente\n",
    "load_dotenv()\n",
    "GOOGLE_API_KEY = os.getenv('GOOGLE_API_KEY')\n",
    "\n",
    "# Configurando o Gemini\n",
    "genai.configure(api_key=GOOGLE_API_KEY)\n",
    "model = genai.GenerativeModel('gemini-pro')"
   ]
  },
  {
   "cell_type": "code",
   "execution_count": 3,
   "metadata": {},
   "outputs": [],
   "source": [
    "def gerar_resumo(texto):\n",
    "    exemplos_prompt = \"\"\"\n",
    "    Exemplos de como resumir uma notícia:\n",
    "\n",
    "    Notícia original:\n",
    "    \"A NASA anunciou hoje o sucesso da missão Artemis IV, que pousou com êxito na Lua. A nave, que decolou há três dias do Centro Espacial Kennedy, na Flórida, transportava quatro astronautas que realizarão experimentos científicos durante duas semanas na superfície lunar. Este é o primeiro pouso tripulado na Lua desde as missões Apollo, há mais de 50 anos.\"\n",
    "\n",
    "    Resumo:\n",
    "    - Principal: NASA realiza pouso bem-sucedido na Lua com missão Artemis IV\n",
    "    - Detalhes: 4 astronautas, 2 semanas de missão, primeiro pouso desde Apollo\n",
    "    - Relevância: Marco histórico após 50 anos sem pousos lunares tripulados\n",
    "\n",
    "    Notícia original:\n",
    "    \"A Apple apresentou seu novo iPhone 15 em evento realizado em Cupertino. O dispositivo traz câmera de 48MP, processador A17 e, pela primeira vez, porta USB-C. Os preços começam em $799 para o modelo básico. As vendas iniciam na próxima sexta-feira em 30 países.\"\n",
    "\n",
    "    Resumo:\n",
    "    - Principal: Apple lança iPhone 15\n",
    "    - Detalhes: Câmera 48MP, chip A17, porta USB-C\n",
    "    - Relevância: Primeira vez com USB-C, disponível em 30 países\n",
    "\n",
    "    Por favor, resuma a seguinte notícia seguindo o mesmo formato:\n",
    "\n",
    "    {noticia}\n",
    "    \"\"\"\n",
    "    \n",
    "    prompt = exemplos_prompt.format(noticia=texto)\n",
    "    response = model.generate_content(prompt)\n",
    "    return response.text"
   ]
  },
  {
   "cell_type": "code",
   "execution_count": 4,
   "metadata": {},
   "outputs": [],
   "source": [
    "def avaliar_resumo(texto_original, resumo):\n",
    "    prompt_avaliacao = f\"\"\"\n",
    "    Avalie a qualidade do resumo abaixo considerando:\n",
    "    1. Precisão das informações\n",
    "    2. Clareza e concisão\n",
    "    3. Captura dos pontos principais\n",
    "    4. Formatação consistente com os exemplos\n",
    "    5. Preservação dos dados estatísticos importantes\n",
    "    \n",
    "    Texto original:\n",
    "    {texto_original}\n",
    "    \n",
    "    Resumo gerado:\n",
    "    {resumo}\n",
    "    \n",
    "    Forneça uma avaliação detalhada e uma nota de 0 a 10.\n",
    "    \"\"\"\n",
    "    \n",
    "    response = model.generate_content(prompt_avaliacao)\n",
    "    return response.text\n"
   ]
  },
  {
   "cell_type": "code",
   "execution_count": 5,
   "metadata": {},
   "outputs": [
    {
     "name": "stdout",
     "output_type": "stream",
     "text": [
      "Gerando resumo da notícia...\n",
      "\n",
      "Resumo gerado:\n",
      "\n",
      "    Resumo:\n",
      "    - Principal: Índices de miséria e pobreza no Brasil atingem menores patamares históricos\n",
      "    - Detalhes: Miséria abaixo de 5% (4,4%), pobreza em 59 milhões (redução de 8,7 milhões)\n",
      "    - Relevância: Programa Bolsa Família e mercado de trabalho contribuíram para a melhora\n",
      "\n",
      "Avaliando qualidade do resumo...\n",
      "\n",
      "Avaliação:\n",
      "\n",
      "**Avaliação do Resumo:**\n",
      "\n",
      "**1. Precisão das informações:**\n",
      "* O resumo captura com precisão as informações principais do texto original.\n",
      "\n",
      "**2. Clareza e concisão:**\n",
      "* O resumo é claro, conciso e fácil de entender.\n",
      "\n",
      "**3. Captura dos pontos principais:**\n",
      "* O resumo cobre os pontos principais do texto original, incluindo a queda histórica da miséria e da pobreza, o papel do Bolsa Família e do mercado de trabalho e a disparidade racial e de gênero na pobreza.\n",
      "\n",
      "**4. Formatação consistente com os exemplos:**\n",
      "* O resumo segue o formato fornecido nos exemplos, com cabeçalho \"Resumo\" e marcadores.\n",
      "\n",
      "**5. Preservação dos dados estatísticos importantes:**\n",
      "* O resumo preserva os dados estatísticos importantes, incluindo as porcentagens de miséria e pobreza e o número de pessoas que saíram dessas condições.\n",
      "\n",
      "**Nota:** 9/10\n",
      "\n",
      "O resumo é preciso, claro, conciso, captura os pontos principais e preserva os dados estatísticos importantes. Ele poderia ser aprimorado incluindo um pouco mais de contexto sobre o significado da queda da miséria e da pobreza, mas no geral é um resumo bem escrito e informativo.\n"
     ]
    }
   ],
   "source": [
    "def main():\n",
    "    # Notícia para análise\n",
    "    noticia = \"\"\"\n",
    "    Miséria e pobreza atingem o menor patamar da História no Brasil, aponta IBGE\n",
    "\n",
    "    A pobreza e a extrema pobreza no Brasil registraram em 2023 os menores índices da série histórica, iniciada em 2012. Pela primeira vez, a miséria ficou abaixo de 5%, caindo para 4,4%, o que representa 9,5 milhões de pessoas. Além disso, 8,7 milhões de brasileiros saíram da condição de pobreza, reduzindo esse contingente para 59 milhões, o menor número registrado em mais de uma década.\n",
    "\n",
    "    A expansão dos programas sociais, principalmente do Bolsa Família, ajudou a reduzir a miséria, também chamada de pobreza extrema, de 5,9% para 4,4% entre 2022 e 2023, segundo o IBGE. Em outras palavras, significa que, de 12,6 milhões de pessoas, 3,1 milhões saíram da miséria em um ano.\n",
    "\n",
    "    O IBGE considera que a redução da pobreza ocorreu pela melhora do mercado de trabalho. Já a diminuição da extrema pobreza só foi possível graças ao fortalecimento dos programas sociais — para os mais vulneráveis, o Bolsa Família tem efeito maior.\n",
    "\n",
    "    A miséria e a pobreza no país também têm cor, gênero e idade. Afetam mais as pessoas pretas e pardas (6%) do que as brancas (2,6%), com uma taxa quase três vezes maior. Quando se observa a pobreza geral, 35,5% das pessoas pretas e 30,8% das pardas vivem abaixo dessa linha, enquanto entre os brancos esse índice é de 17,7%.\n",
    "    \"\"\"\n",
    "\n",
    "    print(\"Gerando resumo da notícia...\\n\")\n",
    "    resumo = gerar_resumo(noticia)\n",
    "    print(\"Resumo gerado:\\n\")\n",
    "    print(resumo)\n",
    "    \n",
    "    print(\"\\nAvaliando qualidade do resumo...\\n\")\n",
    "    avaliacao = avaliar_resumo(noticia, resumo)\n",
    "    print(\"Avaliação:\\n\")\n",
    "    print(avaliacao)\n",
    "\n",
    "if __name__ == \"__main__\":\n",
    "    main()"
   ]
  },
  {
   "cell_type": "code",
   "execution_count": null,
   "metadata": {},
   "outputs": [],
   "source": []
  }
 ],
 "metadata": {
  "kernelspec": {
   "display_name": "Python 3",
   "language": "python",
   "name": "python3"
  },
  "language_info": {
   "codemirror_mode": {
    "name": "ipython",
    "version": 3
   },
   "file_extension": ".py",
   "mimetype": "text/x-python",
   "name": "python",
   "nbconvert_exporter": "python",
   "pygments_lexer": "ipython3",
   "version": "3.11.3"
  }
 },
 "nbformat": 4,
 "nbformat_minor": 2
}
