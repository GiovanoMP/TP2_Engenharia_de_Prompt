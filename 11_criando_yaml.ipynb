{
 "cells": [
  {
   "cell_type": "code",
   "execution_count": 1,
   "metadata": {},
   "outputs": [],
   "source": [
    "# Criar o arquivo roteiro.yaml\n",
    "conteudo_yaml = \"\"\"\n",
    "roteiro:\n",
    "  roma:\n",
    "    prompt: |\n",
    "      Liste 3 dos principais pontos turísticos de Roma, Itália.\n",
    "      Para cada ponto turístico, forneça:\n",
    "      1. Nome do local\n",
    "      2. Número aproximado de visitantes anuais\n",
    "      3. Uma breve descrição histórica e cultural\n",
    "      4. Por que é importante visitar este local\n",
    "\n",
    "      Formate a resposta de forma clara e organizada, com cada ponto turístico separado por seções.\n",
    "      \n",
    "  atenas:\n",
    "    prompt: |\n",
    "      Liste 3 dos principais pontos turísticos de Atenas, Grécia.\n",
    "      Para cada ponto turístico, forneça:\n",
    "      1. Nome do local\n",
    "      2. Número aproximado de visitantes anuais\n",
    "      3. Uma breve descrição histórica e cultural\n",
    "      4. Por que é importante visitar este local\n",
    "\n",
    "      Formate a resposta de forma clara e organizada, com cada ponto turístico separado por seções.\n",
    "\"\"\"\n",
    "\n",
    "# Salvar o arquivo YAML\n",
    "with open('11_roteiro.yaml', 'w', encoding='utf-8') as f:\n",
    "    f.write(conteudo_yaml)"
   ]
  }
 ],
 "metadata": {
  "kernelspec": {
   "display_name": "venv",
   "language": "python",
   "name": "python3"
  },
  "language_info": {
   "codemirror_mode": {
    "name": "ipython",
    "version": 3
   },
   "file_extension": ".py",
   "mimetype": "text/x-python",
   "name": "python",
   "nbconvert_exporter": "python",
   "pygments_lexer": "ipython3",
   "version": "3.12.6"
  }
 },
 "nbformat": 4,
 "nbformat_minor": 2
}
