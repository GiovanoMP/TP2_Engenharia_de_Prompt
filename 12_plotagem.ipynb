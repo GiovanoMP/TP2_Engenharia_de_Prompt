{
 "cells": [
  {
   "cell_type": "markdown",
   "metadata": {},
   "source": [
    "# Exercício 12 Sistema de Envio de Emails com Dados Turísticos em JSON\n",
    "Queremos montar um sistema que envie emails com os pontos turísticos de cidades num roteiro de viagem. Com base no Exercício 11, altere o prompt para estruturar a saída em formato JSON, com descrições e número de visitantes. Crie um notebook que use a biblioteca pandas para converter esse JSON para dataframe e plot um único gráfico de barras horizontais com todos os pontos turísticos, destacando as cores das barras de acordo com a cidade do ponto turístico (Coliseu, em Roma deve ter uma cor diferente que Parthenon, em Atenas). Coloque as legendas no gráfico.\n"
   ]
  },
  {
   "cell_type": "code",
   "execution_count": 2,
   "metadata": {},
   "outputs": [
    {
     "ename": "ModuleNotFoundError",
     "evalue": "No module named 'matplotlib'",
     "output_type": "error",
     "traceback": [
      "\u001b[1;31m---------------------------------------------------------------------------\u001b[0m",
      "\u001b[1;31mModuleNotFoundError\u001b[0m                       Traceback (most recent call last)",
      "Cell \u001b[1;32mIn[2], line 2\u001b[0m\n\u001b[0;32m      1\u001b[0m \u001b[38;5;28;01mimport\u001b[39;00m \u001b[38;5;21;01mpandas\u001b[39;00m \u001b[38;5;28;01mas\u001b[39;00m \u001b[38;5;21;01mpd\u001b[39;00m\n\u001b[1;32m----> 2\u001b[0m \u001b[38;5;28;01mimport\u001b[39;00m \u001b[38;5;21;01mmatplotlib\u001b[39;00m\u001b[38;5;21;01m.\u001b[39;00m\u001b[38;5;21;01mpyplot\u001b[39;00m \u001b[38;5;28;01mas\u001b[39;00m \u001b[38;5;21;01mplt\u001b[39;00m\n\u001b[0;32m      3\u001b[0m \u001b[38;5;28;01mimport\u001b[39;00m \u001b[38;5;21;01mjson\u001b[39;00m\n\u001b[0;32m      4\u001b[0m \u001b[38;5;28;01mfrom\u001b[39;00m \u001b[38;5;21;01mmplfonts\u001b[39;00m \u001b[38;5;28;01mimport\u001b[39;00m use_font\n",
      "\u001b[1;31mModuleNotFoundError\u001b[0m: No module named 'matplotlib'"
     ]
    }
   ],
   "source": [
    "import pandas as pd\n",
    "import matplotlib.pyplot as plt\n",
    "import json\n",
    "from mplfonts import use_font\n",
    "use_font('Noto Serif CJK SC')"
   ]
  },
  {
   "cell_type": "code",
   "execution_count": 1,
   "metadata": {},
   "outputs": [
    {
     "ename": "ModuleNotFoundError",
     "evalue": "No module named 'matplotlib'",
     "output_type": "error",
     "traceback": [
      "\u001b[1;31m---------------------------------------------------------------------------\u001b[0m",
      "\u001b[1;31mModuleNotFoundError\u001b[0m                       Traceback (most recent call last)",
      "Cell \u001b[1;32mIn[1], line 2\u001b[0m\n\u001b[0;32m      1\u001b[0m \u001b[38;5;28;01mimport\u001b[39;00m \u001b[38;5;21;01mpandas\u001b[39;00m \u001b[38;5;28;01mas\u001b[39;00m \u001b[38;5;21;01mpd\u001b[39;00m\n\u001b[1;32m----> 2\u001b[0m \u001b[38;5;28;01mimport\u001b[39;00m \u001b[38;5;21;01mmatplotlib\u001b[39;00m\u001b[38;5;21;01m.\u001b[39;00m\u001b[38;5;21;01mpyplot\u001b[39;00m \u001b[38;5;28;01mas\u001b[39;00m \u001b[38;5;21;01mplt\u001b[39;00m\n\u001b[0;32m      3\u001b[0m \u001b[38;5;28;01mimport\u001b[39;00m \u001b[38;5;21;01mjson\u001b[39;00m\n\u001b[0;32m      4\u001b[0m \u001b[38;5;28;01mfrom\u001b[39;00m \u001b[38;5;21;01mmplfonts\u001b[39;00m \u001b[38;5;28;01mimport\u001b[39;00m use_font\n",
      "\u001b[1;31mModuleNotFoundError\u001b[0m: No module named 'matplotlib'"
     ]
    }
   ],
   "source": [
    "\n",
    "\n",
    "# Ler o arquivo JSON\n",
    "with open('12_roteiro.json', 'r', encoding='utf-8') as f:\n",
    "    dados = json.load(f)\n",
    "\n",
    "# Criar listas para armazenar os dados\n",
    "pontos_turisticos = []\n",
    "visitantes = []\n",
    "cidades = []\n",
    "\n",
    "# Extrair dados do JSON\n",
    "for cidade, info in dados['roteiro'].items():\n",
    "    for ponto in info['resposta']['pontos_turisticos']:\n",
    "        pontos_turisticos.append(ponto['nome'])\n",
    "        visitantes.append(ponto['visitantes_anuais'])\n",
    "        cidades.append(info['resposta']['cidade'])\n",
    "\n",
    "# Criar DataFrame\n",
    "df = pd.DataFrame({\n",
    "    'Ponto Turístico': pontos_turisticos,\n",
    "    'Visitantes Anuais': visitantes,\n",
    "    'Cidade': cidades\n",
    "})\n",
    "\n",
    "# Configurar o gráfico\n",
    "plt.figure(figsize=(12, 6))\n",
    "\n",
    "# Criar as barras horizontais\n",
    "cores = {'Roma': '#FF6B6B', 'Atenas': '#4ECDC4'}\n",
    "bars = plt.barh(df['Ponto Turístico'], df['Visitantes Anuais'], \n",
    "                color=[cores[cidade] for cidade in df['Cidade']])\n",
    "\n",
    "# Adicionar rótulos e título\n",
    "plt.xlabel('Número de Visitantes Anuais (milhões)')\n",
    "plt.title('Visitantes Anuais por Ponto Turístico')\n",
    "\n",
    "# Formatar os números do eixo x em milhões\n",
    "plt.gca().xaxis.set_major_formatter(plt.FuncFormatter(lambda x, p: f'{x/1e6:.1f}M'))\n",
    "\n",
    "# Adicionar valores nas barras\n",
    "for bar in bars:\n",
    "    width = bar.get_width()\n",
    "    plt.text(width, bar.get_y() + bar.get_height()/2, \n",
    "             f'{width/1e6:.1f}M',\n",
    "             ha='left', va='center')\n",
    "\n",
    "# Adicionar legenda\n",
    "handles = [plt.Rectangle((0,0),1,1, color=cor) for cor in cores.values()]\n",
    "labels = cores.keys()\n",
    "plt.legend(handles, labels, title='Cidades', loc='lower right')\n",
    "\n",
    "plt.tight_layout()\n",
    "plt.show()\n"
   ]
  }
 ],
 "metadata": {
  "kernelspec": {
   "display_name": "venv",
   "language": "python",
   "name": "python3"
  },
  "language_info": {
   "codemirror_mode": {
    "name": "ipython",
    "version": 3
   },
   "file_extension": ".py",
   "mimetype": "text/x-python",
   "name": "python",
   "nbconvert_exporter": "python",
   "pygments_lexer": "ipython3",
   "version": "3.12.6"
  }
 },
 "nbformat": 4,
 "nbformat_minor": 2
}
