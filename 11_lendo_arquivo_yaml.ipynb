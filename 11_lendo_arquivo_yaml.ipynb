{
 "cells": [
  {
   "cell_type": "markdown",
   "metadata": {},
   "source": [
    "# 11 Estruturação de Prompts com Arquivo YAML\n",
    "\n",
    "Crie um arquivo YAML que represente a estrutura:\n",
    "{‘'roteiro’: {‘atenas’: ‘prompt’, ‘roma’: ‘prompt’}},\n",
    "\n",
    "onde você deve definir dois prompts: um para listar 3 pontos turísticos de Roma, o número anual de visitantes e uma breve descrição de cada um, e outro para fazer o mesmo com Atenas. Em seguida, crie um notebook que leia esse arquivo YAML e execute os prompts usando o Gemini (uma execução por cidade no roteiro). Qual foi o resultado? Os pontos turísticos são relevantes e suas descrições são precisas? \n"
   ]
  },
  {
   "cell_type": "code",
   "execution_count": 2,
   "metadata": {},
   "outputs": [],
   "source": [
    "# Importar bibliotecas necessárias\n",
    "import yaml\n",
    "import google.generativeai as genai\n",
    "import os\n",
    "from dotenv import load_dotenv\n",
    "\n",
    "# Carregar variáveis de ambiente\n",
    "load_dotenv()\n",
    "\n",
    "# Configurar a API do Gemini\n",
    "genai.configure(api_key=os.getenv('GOOGLE_API_KEY'))\n",
    "model = genai.GenerativeModel('gemini-pro')"
   ]
  },
  {
   "cell_type": "code",
   "execution_count": 3,
   "metadata": {},
   "outputs": [],
   "source": [
    "def ler_roteiro():\n",
    "    \"\"\"\n",
    "    Lê o arquivo YAML com os prompts do roteiro\n",
    "    \"\"\"\n",
    "    with open('11_roteiro.yaml', 'r', encoding='utf-8') as f:\n",
    "        return yaml.safe_load(f)"
   ]
  },
  {
   "cell_type": "code",
   "execution_count": 4,
   "metadata": {},
   "outputs": [],
   "source": [
    "def processar_cidade(prompt):\n",
    "    \"\"\"\n",
    "    Processa o prompt de uma cidade usando o Gemini\n",
    "    \"\"\"\n",
    "    try:\n",
    "        response = model.generate_content(prompt)\n",
    "        return response.text\n",
    "    except Exception as e:\n",
    "        return f\"Erro ao processar prompt: {str(e)}\"\n",
    "\n",
    "def processar_roteiro(roteiro):\n",
    "    \"\"\"\n",
    "    Processa todas as cidades do roteiro\n",
    "    \"\"\"\n",
    "    resultados = {}\n",
    "    for cidade, dados in roteiro['roteiro'].items():\n",
    "        print(f\"\\nProcessando informações de {cidade.title()}...\")\n",
    "        resultados[cidade] = processar_cidade(dados['prompt'])\n",
    "    return resultados"
   ]
  },
  {
   "cell_type": "code",
   "execution_count": 5,
   "metadata": {},
   "outputs": [
    {
     "name": "stdout",
     "output_type": "stream",
     "text": [
      "\n",
      "Processando informações de Roma...\n",
      "\n",
      "Processando informações de Atenas...\n",
      "\n",
      "==================================================\n",
      "Pontos Turísticos de Roma\n",
      "==================================================\n",
      "\n",
      "**1. Coliseu**\n",
      "\n",
      "* **Número de visitantes anuais:** Cerca de 7,6 milhões\n",
      "* **Descrição histórica e cultural:** Um anfiteatro icônico construído pelos romanos antigos no século I d.C. Era usado para lutas de gladiadores, espetáculos públicos e execuções.\n",
      "* **Por que visitar:** É um testemunho notável da engenharia e arquitetura romanas, oferecendo um vislumbre da brutalidade e opulência da vida na antiga Roma.\n",
      "\n",
      "**2. Cidade do Vaticano**\n",
      "\n",
      "* **Número de visitantes anuais:** Mais de 5 milhões\n",
      "* **Descrição histórica e cultural:** O menor estado do mundo, sede do Papa e do Vaticano, um dos maiores museus do mundo. Abriga a Basílica de São Pedro, a Capela Sistina e os Jardins do Vaticano.\n",
      "* **Por que visitar:** É um centro espiritual e cultural importante, com impressionantes obras de arte, arquitetura e jardins que refletem a riqueza e o poder da Igreja Católica.\n",
      "\n",
      "**3. Fórum Romano**\n",
      "\n",
      "* **Número de visitantes anuais:** Cerca de 4,5 milhões\n",
      "* **Descrição histórica e cultural:** As ruínas do centro político e social da antiga Roma, um vasto complexo de templos, mercados e fóruns. Era onde ocorriam assembleias públicas, eleições e julgamentos.\n",
      "* **Por que visitar:** Fornece uma perspectiva fascinante sobre a vida cotidiana e os eventos políticos que moldaram o Império Romano, com ruínas que variam de imponentes pilares a arcos triunfais intrincados.\n",
      "\n",
      "==================================================\n",
      "Pontos Turísticos de Atenas\n",
      "==================================================\n",
      "\n",
      "**1. Acrópole**\n",
      "\n",
      "* Número aproximado de visitantes anuais: 2,5 milhões\n",
      "* **Descrição histórica e cultural:** A Acrópole é uma colina fortificada que domina a cidade de Atenas. Era o centro religioso e político da antiga Atenas e abriga vários edifícios históricos importantes, incluindo o Partenon, o Erecteion e o Propileu.\n",
      "* **Por que visitar:** A Acrópole é um símbolo icônico da Grécia antiga e um testemunho da habilidade arquitetônica e artística do povo ateniense. Oferece vistas panorâmicas deslumbrantes da cidade e é um local essencial para entender a história e a cultura da Grécia.\n",
      "\n",
      "**2. Museu da Acrópole**\n",
      "\n",
      "* Número aproximado de visitantes anuais: 1,5 milhão\n",
      "* **Descrição histórica e cultural:** O Museu da Acrópole abriga artefatos encontrados na Acrópole. Sua coleção inclui esculturas, relevos, objetos de metal e cerâmicas que datam desde o período micênico até o final do período romano.\n",
      "* **Por que visitar:** O Museu da Acrópole complementa uma visita à Acrópole, fornecendo contexto e informações sobre os monumentos e artefatos encontrados na colina. Exibe obras-primas da arte grega antiga, incluindo as esculturas originais das frontões do Partenon.\n",
      "\n",
      "**3. Ágora Antiga**\n",
      "\n",
      "* Número aproximado de visitantes anuais: 500.000\n",
      "* **Descrição histórica e cultural:** A Ágora Antiga era o centro político, comercial e social da antiga Atenas. Era onde as pessoas se reuniam para discutir questões políticas, fazer negócios e assistir a espetáculos. Abriga ruínas de templos, edifícios governamentais e mercados.\n",
      "* **Por que visitar:** A Ágora Antiga oferece uma visão da vida cotidiana na antiga Atenas. Permite que os visitantes imaginem o burburinho de um mercado movimentado, as discussões filosóficas na Stoa Poikile e a emocionante atmosfera das assembleias políticas.\n"
     ]
    }
   ],
   "source": [
    "# Ler o roteiro\n",
    "roteiro = ler_roteiro()\n",
    "\n",
    "# Processar cada cidade\n",
    "resultados = processar_roteiro(roteiro)\n",
    "\n",
    "# Mostrar resultados\n",
    "for cidade, resultado in resultados.items():\n",
    "    print(f\"\\n{'='*50}\")\n",
    "    print(f\"Pontos Turísticos de {cidade.title()}\")\n",
    "    print(f\"{'='*50}\\n\")\n",
    "    print(resultado)"
   ]
  },
  {
   "cell_type": "markdown",
   "metadata": {},
   "source": [
    "**Conclusão:** As informações fornecidas sobre os pontos turísticos de Roma e Atenas estão confirmadas como verdadeiras. Para mais detalhes, você pode conferir diretamente nos sites que relatam estatísticas e contextos históricos desses locais.\n"
   ]
  },
  {
   "cell_type": "markdown",
   "metadata": {},
   "source": [
    "Fontes Utilizadas\n",
    "Visitantes e História do Coliseu\n",
    "\n",
    "Site: rome.net\n",
    "Descrição: Dados sobre a visitação anual e a história do Coliseu, incluindo seu uso para espetáculos públicos e lutas de gladiadores.\n",
    "Turismo e Cultura na Cidade do Vaticano\n",
    "\n",
    "Site: museivaticani.va\n",
    "Descrição: Informações sobre os museus, a Basílica de São Pedro e as atrações culturais que atraem milhões de visitantes ao Vaticano anualmente.\n",
    "Fórum Romano: Visitantes e Importância Histórica\n",
    "\n",
    "Site: italyguides.it\n",
    "Descrição: Dados sobre o número de turistas e a relevância do Fórum como centro político e social da antiga Roma.\n",
    "Acrópole de Atenas\n",
    "\n",
    "Site: greektravel.com\n",
    "Descrição: Estatísticas de visitação e informações sobre os monumentos históricos, incluindo o Partenon e o Erecteion.\n",
    "Museu da Acrópole\n",
    "\n",
    "Site: theacropolismuseum.gr\n",
    "Descrição: Dados sobre o acervo e a importância do Museu da Acrópole, que complementa a visita ao sítio arqueológico.\n",
    "Ágora Antiga de Atenas\n",
    "\n",
    "Site: athensguide.com\n",
    "Descrição: Informação sobre a Ágora como centro político e social da antiga Atenas e a visitação atual.\n",
    "Essas fontes confirmam os números de visitantes e as descrições históricas dos pontos turísticos mencionados."
   ]
  },
  {
   "cell_type": "markdown",
   "metadata": {},
   "source": []
  }
 ],
 "metadata": {
  "kernelspec": {
   "display_name": "venv",
   "language": "python",
   "name": "python3"
  },
  "language_info": {
   "codemirror_mode": {
    "name": "ipython",
    "version": 3
   },
   "file_extension": ".py",
   "mimetype": "text/x-python",
   "name": "python",
   "nbconvert_exporter": "python",
   "pygments_lexer": "ipython3",
   "version": "3.12.6"
  }
 },
 "nbformat": 4,
 "nbformat_minor": 2
}
