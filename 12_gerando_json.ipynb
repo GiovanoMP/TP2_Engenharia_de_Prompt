{
 "cells": [
  {
   "cell_type": "code",
   "execution_count": 5,
   "metadata": {},
   "outputs": [
    {
     "name": "stdout",
     "output_type": "stream",
     "text": [
      "Arquivo 12_roteiro.json criado com sucesso!\n"
     ]
    }
   ],
   "source": [
    "import json\n",
    "\n",
    "# Criar o conteúdo JSON simulando as respostas esperadas\n",
    "conteudo_json = {\n",
    "  \"roteiro\": {\n",
    "    \"roma\": {\n",
    "      \"prompt\": \"Liste 3 dos principais pontos turísticos de Roma, Itália.\",\n",
    "      \"resposta\": {\n",
    "        \"cidade\": \"Roma\",\n",
    "        \"pontos_turisticos\": [\n",
    "          {\n",
    "            \"nome\": \"Coliseu\",\n",
    "            \"visitantes_anuais\": 7500000,\n",
    "            \"descricao\": \"Anfiteatro romano construído no século I d.C., o maior já construído no Império Romano. Palco de lutas de gladiadores e espetáculos públicos.\",\n",
    "            \"importancia\": \"Símbolo icônico de Roma e uma das Sete Maravilhas do Mundo Moderno, oferece uma visão única da engenharia e arquitetura romana antiga.\"\n",
    "          },\n",
    "          {\n",
    "            \"nome\": \"Basílica de São Pedro\",\n",
    "            \"visitantes_anuais\": 5000000,\n",
    "            \"descricao\": \"Centro da Igreja Católica e maior igreja do mundo, construída sobre o túmulo do apóstolo São Pedro no século XVI.\",\n",
    "            \"importancia\": \"Principal templo do catolicismo e obra-prima da arquitetura renascentista, com contribuições de artistas como Michelangelo.\"\n",
    "          },\n",
    "          {\n",
    "            \"nome\": \"Fontana di Trevi\",\n",
    "            \"visitantes_anuais\": 8000000,\n",
    "            \"descricao\": \"Maior e mais famosa fonte barroca de Roma, completada em 1762. Representa o deus Oceano em seu carro puxado por cavalos marinhos.\",\n",
    "            \"importancia\": \"Além de sua beleza arquitetônica, é famosa pela tradição de jogar moedas para garantir o retorno a Roma.\"\n",
    "          }\n",
    "        ]\n",
    "      }\n",
    "    },\n",
    "    \"atenas\": {\n",
    "      \"prompt\": \"Liste 3 dos principais pontos turísticos de Atenas, Grécia.\",\n",
    "      \"resposta\": {\n",
    "        \"cidade\": \"Atenas\",\n",
    "        \"pontos_turisticos\": [\n",
    "          {\n",
    "            \"nome\": \"Acrópole e Parthenon\",\n",
    "            \"visitantes_anuais\": 3000000,\n",
    "            \"descricao\": \"Antiga cidadela localizada em um platô calcário, dominada pelo Parthenon, templo dedicado à deusa Atena construído no século V a.C.\",\n",
    "            \"importancia\": \"Símbolo máximo da civilização grega antiga e da democracia ateniense, representa o ápice da arquitetura clássica.\"\n",
    "          },\n",
    "          {\n",
    "            \"nome\": \"Ágora Antiga\",\n",
    "            \"visitantes_anuais\": 1500000,\n",
    "            \"descricao\": \"Centro comercial, social e político da antiga Atenas, onde filósofos como Sócrates debatiam e a democracia se desenvolveu.\",\n",
    "            \"importancia\": \"Permite compreender a vida cotidiana na antiga Grécia e o berço da democracia ocidental.\"\n",
    "          },\n",
    "          {\n",
    "            \"nome\": \"Templo de Zeus Olímpico\",\n",
    "            \"visitantes_anuais\": 2000000,\n",
    "            \"descricao\": \"Maior templo da Grécia antiga, sua construção levou cerca de 700 anos, sendo completado no século II d.C.\",\n",
    "            \"importancia\": \"Impressionante exemplo da arquitetura grega antiga e da devoção aos deuses olímpicos.\"\n",
    "          }\n",
    "        ]\n",
    "      }\n",
    "    }\n",
    "  }\n",
    "}\n",
    "\n",
    "# Salvar como arquivo JSON\n",
    "with open('12_roteiro.json', 'w', encoding='utf-8') as f:\n",
    "    json.dump(obj=conteudo_json, fp=f, indent=2, ensure_ascii=False)\n",
    "\n",
    "print(\"Arquivo 12_roteiro.json criado com sucesso!\")\n"
   ]
  }
 ],
 "metadata": {
  "kernelspec": {
   "display_name": "venv",
   "language": "python",
   "name": "python3"
  },
  "language_info": {
   "name": "python",
   "version": "3.12.6"
  }
 },
 "nbformat": 4,
 "nbformat_minor": 2
}
